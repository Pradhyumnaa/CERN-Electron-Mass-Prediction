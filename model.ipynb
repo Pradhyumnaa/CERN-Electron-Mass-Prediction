{
 "cells": [
  {
   "cell_type": "code",
   "execution_count": null,
   "metadata": {},
   "outputs": [],
   "source": [
    "import pandas as pd\n",
    "import numpy as np\n",
    "from tensorflow import keras\n",
    "from keras.callbacks import EarlyStopping"
   ]
  },
  {
   "cell_type": "code",
   "execution_count": null,
   "metadata": {},
   "outputs": [],
   "source": [
    "# Load the training dataset\n",
    "train_data = pd.read_csv('training.csv')\n",
    "\n",
    "# Load the validation dataset\n",
    "val_data = pd.read_csv('validation.csv')\n",
    "\n",
    "# Load the test dataset\n",
    "test_data = pd.read_csv('test.csv')"
   ]
  },
  {
   "cell_type": "code",
   "execution_count": null,
   "metadata": {},
   "outputs": [],
   "source": [
    "# Drop the 'Run' and 'Event' columns from the training dataset\n",
    "train_data = train_data.drop(['Run', 'Event'], axis=1)\n",
    "\n",
    "# Drop the 'Run' and 'Event' columns from the validation dataset\n",
    "val_data = val_data.drop(['Run', 'Event'], axis=1)\n",
    "\n",
    "# Drop the 'Run' and 'Event' columns from the test dataset\n",
    "test_data = test_data.drop(['Run', 'Event'], axis=1)"
   ]
  },
  {
   "cell_type": "code",
   "execution_count": null,
   "metadata": {},
   "outputs": [],
   "source": [
    "# Extract the 'M' column as the target variable for training\n",
    "y_train = train_data.pop('M')\n",
    "\n",
    "# Extract the 'M' column as the target variable for validation\n",
    "y_val = val_data.pop('M')\n",
    "\n",
    "# Extract the 'M' column as the target variable for testing and remove it from test_data\n",
    "y_test = test_data.pop('M')\n",
    "\n",
    "# Convert the remaining data to feature sets\n",
    "X_train = train_data.values\n",
    "X_val = val_data.values\n",
    "X_test = test_data.values"
   ]
  },
  {
   "cell_type": "code",
   "execution_count": null,
   "metadata": {},
   "outputs": [],
   "source": [
    "input_shape = X_train.shape[1]  # Get the number of features (columns) in X_train"
   ]
  },
  {
   "cell_type": "code",
   "execution_count": null,
   "metadata": {},
   "outputs": [],
   "source": [
    "#Define the model architecture\n",
    "model = keras.Sequential([\n",
    "    keras.layers.Dense(128, activation='relu', input_shape=(input_shape,)),\n",
    "    keras.layers.Dense(32, activation='relu'),\n",
    "    keras.layers.Dense(1)\n",
    "])"
   ]
  },
  {
   "attachments": {},
   "cell_type": "markdown",
   "metadata": {},
   "source": [
    "# Define the model architecture\n",
    "model = keras.Sequential([\n",
    "    Bidirectional(LSTM(64, activation='relu'), input_shape=(input_shape, 1)),\n",
    "    keras.layers.Dense(32, activation='relu'),\n",
    "    keras.layers.Dense(1)\n",
    "])"
   ]
  },
  {
   "cell_type": "code",
   "execution_count": null,
   "metadata": {},
   "outputs": [],
   "source": [
    "# Compile the model\n",
    "model.compile(optimizer='adam', loss='mean_squared_error')"
   ]
  },
  {
   "cell_type": "code",
   "execution_count": null,
   "metadata": {},
   "outputs": [],
   "source": [
    "# Define early stopping\n",
    "early_stopping = EarlyStopping(monitor='val_loss', patience=10, verbose=1, restore_best_weights=True)\n",
    "\n",
    "# Train the model with early stopping\n",
    "history = model.fit(X_train, y_train, validation_data=(X_val, y_val), epochs=100, batch_size=16, callbacks=[early_stopping])\n",
    "\n",
    "# Step 7: Evaluate the model\n",
    "y_pred = model.predict(X_test)"
   ]
  },
  {
   "cell_type": "code",
   "execution_count": null,
   "metadata": {},
   "outputs": [],
   "source": [
    "# Calculate the MAD\n",
    "median = np.median(y_train)\n",
    "mad = np.median(np.abs(y_train - median))\n",
    "\n",
    "print(\"Median Absolute Deviation (MAD):\", mad)"
   ]
  },
  {
   "cell_type": "code",
   "execution_count": null,
   "metadata": {},
   "outputs": [],
   "source": [
    "# To Calculate how many predictions fall within the range of ActualValue+-MAD*0.2\n",
    "count_within_range = 0\n",
    "\n",
    "# Print actual vs predicted values and count predictions within range\n",
    "for i in range(len(y_pred)):\n",
    "    print(f\"Actual: {y_test[i]}, Predicted: {y_pred[i]}\")\n",
    "    if y_test[i] - 1 <= y_pred[i] <= y_test[i] + 1:\n",
    "        count_within_range += 1\n",
    "\n",
    "print(\"Count within range:\", count_within_range/len(y_test))"
   ]
  }
 ],
 "metadata": {
  "kernelspec": {
   "display_name": "base",
   "language": "python",
   "name": "python3"
  },
  "language_info": {
   "codemirror_mode": {
    "name": "ipython",
    "version": 3
   },
   "file_extension": ".py",
   "mimetype": "text/x-python",
   "name": "python",
   "nbconvert_exporter": "python",
   "pygments_lexer": "ipython3",
   "version": "3.9.13"
  },
  "orig_nbformat": 4
 },
 "nbformat": 4,
 "nbformat_minor": 2
}
